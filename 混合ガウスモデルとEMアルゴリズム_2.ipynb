{
 "cells": [
  {
   "cell_type": "markdown",
   "metadata": {},
   "source": [
    "# 混合ガウス分布\n",
    "\n",
    "p(x)=Σk:1_K[π_k*(x|μ_k,Σ_k)\n",
    "\n",
    "潜在変数zを導入\n",
    "zはK次元でK個要素のうちどれか一つだけ1である(one-hot-vector)\n",
    "zはデータxがどのガウス分布から生成されたかを表し、下のような分布になります\n",
    "\n",
    "p(z_k=1)=π_k\n",
    "p(x|z_k=1)=π_k*N(x|μ_k,Σ_k)\n",
    "\n",
    "p(x)=Σz[p(x,z)]=Σz[p(z)p(x|z)]=ΣK[π_k*N(x|μ_k,Σ_k)]"
   ]
  },
  {
   "cell_type": "markdown",
   "metadata": {},
   "source": [
    "潜在変数zの事後確率・・・負担率 \n",
    "γ(z_nk)=p(z_k=1|x_n)= N(x_n|μ_k,Σk) * π_k / Σj:1_K[N(x_n|μ_j,Σj) * π_j]"
   ]
  },
  {
   "cell_type": "markdown",
   "metadata": {},
   "source": [
    "# 対数尤度関数\n",
    "log[p(X|π,μ,Σ)] = Σn:1_N[log(Σk:1_K(N(x_n|μk,Σk)))]\n",
    "\n",
    "これを偏微分して、\n",
    "\n",
    "μk = Σn:1_N[γ(z_nk)x_n] / Nk\n",
    "\n",
    "Σk = Σn:1_N[γ(z_nk)(x_n - μ_k)(x_n - μ_k)^T\n",
    "\n",
    "πk = Nk / N\n",
    "\n",
    "※ Nk = Σn:1_N γ(z_nk)"
   ]
  },
  {
   "cell_type": "markdown",
   "metadata": {},
   "source": [
    "# 混合ガウス分布のためのEMアルゴリズム\n",
    "\n",
    "1. 平均μ_k, 分散Σ_k, 混合係数π_k を初期化して、対数尤度の初期値を計算\n",
    "\n",
    "2. Eステップ：現在のパラメータ値を使って、負担率を計算\n",
    "\n",
    "3. Mステップ：現在の負担率を使って、パラメタ μ_k, Σ_k, π_k を計算\n",
    "\n",
    "4. 対数尤度の変化を見て収束性を確認し、収束基準を満たしていなければ、Eステップに戻る"
   ]
  },
  {
   "cell_type": "code",
   "execution_count": 7,
   "metadata": {
    "collapsed": true
   },
   "outputs": [],
   "source": [
    "import numpy as np\n",
    "from matplotlib import pyplot as plt\n",
    "from scipy import stats\n",
    "from pylab import *"
   ]
  },
  {
   "cell_type": "code",
   "execution_count": 2,
   "metadata": {
    "collapsed": true
   },
   "outputs": [],
   "source": [
    "# 混合ガウス分布のEMアルゴリズム\n",
    "\n",
    "K = 2 # 混合ガウス分布の数（固定）\n",
    "\n",
    "def scale(X):\n",
    "    \"\"\"\n",
    "    データ行列X(サンプル数、特徴数)のフィールド(カラム列)ごとに標準化\n",
    "    \"\"\"\n",
    "    \n",
    "    col = X.shape[1]\n",
    "    \n",
    "    # フィールドごとに平均値と標準偏差を計算\n",
    "    mu = np.mean(X, axis=0)\n",
    "    sigma = np.std(X, axis=0)\n",
    "    \n",
    "    for i in range(col):\n",
    "        X[:, i] = (X[:, i] - mu[i]) / sigma[i]\n",
    "        \n",
    "    return X"
   ]
  },
  {
   "cell_type": "code",
   "execution_count": 3,
   "metadata": {
    "collapsed": true
   },
   "outputs": [],
   "source": [
    "def gaussian(x, mean, cov):\n",
    "    \"\"\"\n",
    "    多変量ガウス関数\n",
    "    \"\"\"\n",
    "    sample_n = x.shape[0]\n",
    "    coef1 = 1 / ((2 * np.pi) ** (sample_n / 2.0))\n",
    "    coef2 = 1 / (np.linalg.det(cov) ** 0.5)\n",
    "    diff = x - mean\n",
    "    content = - 0.5 * np.dot( np.dot(diff.T, np.linalg.inv(cov)), diff) # 横ベクトルx縦ベクトル\n",
    "    \n",
    "    return coef1 * coef2 * np.exp(content)"
   ]
  },
  {
   "cell_type": "code",
   "execution_count": 4,
   "metadata": {
    "collapsed": true
   },
   "outputs": [],
   "source": [
    "def log_likelihood(X, mean, cov, pi):\n",
    "    \"\"\"\n",
    "    対数尤度関数\n",
    "    \"\"\"\n",
    "    log_likelihood = 0.0\n",
    "    \n",
    "    for n in range(len(X)):\n",
    "        likelihood = 0.0\n",
    "        for k in range(K):\n",
    "            likelihood += pi[k] * gaussian(X[n], mean[k], cov[k])\n",
    "        log_likelihood += np.log(likelihood)\n",
    "        \n",
    "    return log_likelihood"
   ]
  },
  {
   "cell_type": "markdown",
   "metadata": {},
   "source": [
    "# メインプログラム"
   ]
  },
  {
   "cell_type": "code",
   "execution_count": 8,
   "metadata": {
    "scrolled": true
   },
   "outputs": [
    {
     "name": "stdout",
     "output_type": "stream",
     "text": [
      "mean: [[0.98930202 0.35813296]\n",
      " [0.15957167 0.61337802]]\n",
      "cov: [[[1. 0.]\n",
      "  [0. 1.]]\n",
      "\n",
      " [[1. 0.]\n",
      "  [0. 1.]]]\n",
      "pi: [0.8426688  0.17841954]\n",
      "gauss_dist: 0.104017052698698\n",
      "log_likelihood: -888.1164949033757\n",
      "turn:0, logLike:-888.1164949033757\n",
      "turn:1, logLike:-544.2256648978578\n",
      "turn:2, logLike:-543.8972852326829\n",
      "turn:3, logLike:-543.489739315092\n",
      "turn:4, logLike:-542.9375995518086\n",
      "turn:5, logLike:-542.1243055858671\n",
      "turn:6, logLike:-540.8044445546901\n",
      "turn:7, logLike:-538.3829050572571\n",
      "turn:8, logLike:-533.1545023206081\n",
      "turn:9, logLike:-519.2689827550805\n",
      "turn:10, logLike:-476.36260751193595\n",
      "turn:11, logLike:-396.9713764959515\n",
      "turn:12, logLike:-385.4866367978305\n",
      "turn:13, logLike:-385.46211527381547\n"
     ]
    },
    {
     "data": {
      "image/png": "[encoded data removed]",
      "text/plain": [
       "<matplotlib.figure.Figure at 0x10a4312b0>"
      ]
     },
     "metadata": {},
     "output_type": "display_data"
    }
   ],
   "source": [
    "# トレーニングデータのロード\n",
    "data = np.genfromtxt(\"./data/faithful.txt\")\n",
    "X = data[:, 0:2]\n",
    "X = scale(X) # データの標準化\n",
    "N = len(X) # サンプルサイズ\n",
    "#print(X[:5])\n",
    "#print(N)\n",
    "\n",
    "# 平均μ_k, 分散Σ_k, 混合係数π_k を初期化して、対数尤度の初期値を計算\n",
    "mean = np.random.rand(K, X.shape[1]) # 0~1\n",
    "cov = []\n",
    "for k in range(K):\n",
    "    cov.append(np.eye(X.shape[1], X.shape[1]))\n",
    "cov = np.array(cov)\n",
    "pi = np.random.rand(K)\n",
    "print(\"mean:\", mean)\n",
    "print(\"cov:\", cov)\n",
    "print(\"pi:\", pi)\n",
    "print(\"gauss_dist:\", gaussian(X[0], mean[0], cov[0]))\n",
    "\n",
    "# 負担率の空配列を用意\n",
    "gamma = np.zeros((N, K))\n",
    "\n",
    "# 対数尤度の初期値を計算\n",
    "logLike = log_likelihood(X, mean, cov, pi)\n",
    "print(\"log_likelihood:\", logLike)\n",
    "\n",
    "\n",
    "\n",
    "turn = 0\n",
    "while True:\n",
    "    print(\"turn:{0}, logLike:{1}\".format(turn, logLike))\n",
    "    \n",
    "    # Eステップ：現在のパラメタを使って、負担率を計算\n",
    "    for n in range(N):\n",
    "        # 分母はkによらないので、最初に1回だけ計算\n",
    "        denominator = 0.0\n",
    "        for j in range(K):\n",
    "            denominator += pi[j] * gaussian(X[n], mean[j], cov[j])\n",
    "        # 各kについて負担率を計算\n",
    "        for k in range(K):\n",
    "            gamma[n][k] = pi[k] * gaussian(X[n], mean[k], cov[k]) / denominator\n",
    "            \n",
    "    \n",
    "    # Mステップ：現在の負担率を使って、パラメタを再計算\n",
    "    for k in range(K):\n",
    "        \n",
    "        # N_kを計算する\n",
    "        Nk = 0.0\n",
    "        for n in range(N):\n",
    "            Nk += gamma[n][k]\n",
    "        \n",
    "            \n",
    "        # 平均を再計算\n",
    "        mean[k] = np.array([0.0, 0.0])\n",
    "        for n in range(N):\n",
    "            #print(\"X[n]:\\n\", X[n])\n",
    "            mean[k] += gamma[n][k] * X[n]\n",
    "        mean[k] /= Nk\n",
    "        \n",
    "        # 共分散を再計算\n",
    "        cov[k] = np.array([[0.0, 0.0], [0.0, 0.0]])\n",
    "        for n in range(N):\n",
    "            diff = X[n] - mean[k]\n",
    "            # 縦ベクトルx横ベクトル\n",
    "            cov[k] += gamma[n][k] * np.matrix(diff).reshape(2, 1) * np.matrix(diff).reshape(1,2)\n",
    "        cov[k] /=Nk\n",
    "        \n",
    "        # 混合係数を再計算\n",
    "        pi[k] = Nk / N\n",
    "        \n",
    "    # 収束判定\n",
    "    new_logLike = log_likelihood(X, mean, cov, pi)\n",
    "    diff_logLike = new_logLike - logLike\n",
    "    if diff_logLike < 0.01:\n",
    "        break\n",
    "    logLike = new_logLike\n",
    "    turn += 1\n",
    "    \n",
    "# ガウス分布の平均を描画\n",
    "for k in range(K):\n",
    "    plt.scatter(mean[k, 0], mean[k, 1], c='r', marker='o')\n",
    "    \n",
    "# 等高線を描画\n",
    "xlist = np.linspace(-2.5, 2.5, 50)\n",
    "ylist = np.linspace(-2.5, 2.5, 50)\n",
    "x, y = np.meshgrid(xlist, ylist)\n",
    "#pos = np.dstack((xlist, ylist))\n",
    "for k in range(K):\n",
    "    z = bivariate_normal(x, y, \n",
    "                         np.sqrt(cov[k, 0, 0]), \n",
    "                         np.sqrt(cov[k, 1, 1]),\n",
    "                        mean[k, 0],\n",
    "                        mean[k, 1],\n",
    "                        cov[k, 0, 1])\n",
    "    #z = stats.multivariate_normal(mean[k], cov[k]).pdf(pos)\n",
    "    \n",
    "    cs = contour(x, y, z, 3, colors='k', linewidths=1)\n",
    "    \n",
    "# トレーニングデータを描画\n",
    "plt.plot(X[:, 0], X[:, 1], 'gx')\n",
    "xlim(-2.5, 2.5)\n",
    "ylim(-2.5, 2.5)\n",
    "plt.show()"
   ]
  },
  {
   "cell_type": "code",
   "execution_count": null,
   "metadata": {
    "collapsed": true
   },
   "outputs": [],
   "source": []
  }
 ],
 "metadata": {
  "kernelspec": {
   "display_name": "Python 3",
   "language": "python",
   "name": "python3"
  },
  "language_info": {
   "codemirror_mode": {
    "name": "ipython",
    "version": 3
   },
   "file_extension": ".py",
   "mimetype": "text/x-python",
   "name": "python",
   "nbconvert_exporter": "python",
   "pygments_lexer": "ipython3",
   "version": "3.6.4"
  }
 },
 "nbformat": 4,
 "nbformat_minor": 2
}
